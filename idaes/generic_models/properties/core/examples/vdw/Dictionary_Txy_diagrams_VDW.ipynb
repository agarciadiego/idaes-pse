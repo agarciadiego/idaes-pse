{
 "cells": [
  {
   "cell_type": "markdown",
   "metadata": {},
   "source": [
    "# Create a dictionary and use Txy diagrams"
   ]
  },
  {
   "cell_type": "markdown",
   "metadata": {},
   "source": [
    "## 1. Introduction\n",
    "\n",
    "This Jupyter Notebook creates a property package for the generic property package and utilized the Txy diagrams for the generic properties. A dictionary with the neccesary parameters.\n",
    "\n",
    "### 1.1 Tutorial objectives\n",
    "\n",
    "The goals of this tutorial are:\n",
    "\n",
    "* Create a parameter block directly on a jupyter notebook.\n",
    "* Utilize the Generic Property Package, which provides a flexible platform for users to build property packages by calling upon libraries of modular sub-models to build up complex property calculations with the least effort possible.\n",
    "* Demonstrate the use of Txy diagrams in the IDAES utilities."
   ]
  },
  {
   "cell_type": "markdown",
   "metadata": {},
   "source": [
    "## 2. Problem Statement\n",
    "\n",
    "### 2.1 Setting up the problem in IDAES\n",
    "\n",
    "In the next cell, we will be importing the necessary components from Pyomo and IDAES."
   ]
  },
  {
   "cell_type": "code",
   "execution_count": 1,
   "metadata": {},
   "outputs": [],
   "source": [
    "# Import objects from pyomo package\n",
    "from pyomo.environ import ConcreteModel\n",
    "\n",
    "# Import idaes logger to set output levels\n",
    "import idaes.logger as idaeslog\n",
    "\n",
    "# Import the Generic Parameter Block\n",
    "from idaes.generic_models.properties.core.generic.generic_property import GenericParameterBlock"
   ]
  },
  {
   "cell_type": "markdown",
   "metadata": {},
   "source": [
    "### 2.2 Importing property sub-libraries\n",
    "\n",
    "The IDAES generic property package calls upon libraries of modular sub-models to build up complex property calculations with the least effort possible. We have to import these libraries."
   ]
  },
  {
   "cell_type": "code",
   "execution_count": 2,
   "metadata": {},
   "outputs": [],
   "source": [
    "# Import Python libraries\n",
    "import logging\n",
    "\n",
    "# Import Pyomo units\n",
    "from pyomo.environ import units as pyunits\n",
    "from pyomo.environ import value\n",
    "# Import IDAES cores\n",
    "from idaes.core import LiquidPhase, VaporPhase, Component\n",
    "\n",
    "from idaes.generic_models.properties.core.state_definitions import FTPx\n",
    "from idaes.generic_models.properties.core.eos.ideal import Ideal\n",
    "from idaes.generic_models.properties.core.phase_equil import smooth_VLE\n",
    "from idaes.generic_models.properties.core.phase_equil.bubble_dew import \\\n",
    "        IdealBubbleDew,LogBubbleDew\n",
    "from idaes.generic_models.properties.core.eos.ceos import Cubic, CubicType, MixingRuleB\n",
    "from idaes.generic_models.properties.core.phase_equil.forms import fugacity,log_fugacity\n",
    "\n",
    "import idaes.generic_models.properties.core.pure.Perrys as Perrys\n",
    "import idaes.generic_models.properties.core.pure.RPP4 as RPP4"
   ]
  },
  {
   "cell_type": "markdown",
   "metadata": {},
   "source": [
    "### 2.3 Creating a generic property parameter block\n",
    "\n",
    "The next step is to give all the parameter information required for the sub-libraries. Here we will specify the base units of our model, the bounds on the state properties and the reference conditions of our properties."
   ]
  },
  {
   "cell_type": "code",
   "execution_count": 3,
   "metadata": {},
   "outputs": [],
   "source": [
    "# Add properties parameter blocks to the flowsheet with specifications -- pull from .py file\n",
    "# from idaes.generic_models.properties.core.examples.BT_VDW import configuration"
   ]
  },
  {
   "cell_type": "code",
   "execution_count": 4,
   "metadata": {},
   "outputs": [],
   "source": [
    "#Make configuration from original Dictionary_Txy_diagrams_AG\n",
    "configuration = {\n",
    "    # Specifying components\n",
    "    \"components\": {\n",
    "        'benzene': {\"type\": Component,\n",
    "                    \"elemental_composition\": {\"C\": 6, \"H\": 6},\n",
    "                    \"dens_mol_liq_comp\": Perrys,\n",
    "                    \"enth_mol_liq_comp\": Perrys,\n",
    "                    \"enth_mol_ig_comp\": RPP4,\n",
    "                    \"pressure_sat_comp\": RPP4,\n",
    "                    \"phase_equilibrium_form\": {(\"Vap\", \"Liq\"): fugacity},\n",
    "                    \"parameter_data\": {\n",
    "                        \"mw\": (78.1136E-3, pyunits.kg/pyunits.mol),  # [1]\n",
    "                        \"pressure_crit\": (48.9e5, pyunits.Pa),  # [1]\n",
    "                        \"temperature_crit\": (562.2, pyunits.K),  # [1]\n",
    "                        \"omega\": 0.212,  # [1]\n",
    "                        \"dens_mol_liq_comp_coeff\": {\n",
    "                            '1': (1.0162, pyunits.kmol*pyunits.m**-3),  # [2] pg. 2-98\n",
    "                            '2': (0.2655, None),\n",
    "                            '3': (562.16, pyunits.K),\n",
    "                            '4': (0.28212, None)},\n",
    "                        \"cp_mol_ig_comp_coeff\": {\n",
    "                            'A': (-3.392E1, pyunits.J/pyunits.mol/pyunits.K),  # [1]\n",
    "                            'B': (4.739E-1, pyunits.J/pyunits.mol/pyunits.K**2),\n",
    "                            'C': (-3.017E-4, pyunits.J/pyunits.mol/pyunits.K**3),\n",
    "                            'D': (7.130E-8, pyunits.J/pyunits.mol/pyunits.K**4)},\n",
    "                        \"cp_mol_liq_comp_coeff\": {\n",
    "                            '1': (1.29E2, pyunits.J/pyunits.kmol/pyunits.K),  # [2]\n",
    "                            '2': (-1.7E-1, pyunits.J/pyunits.kmol/pyunits.K**2),\n",
    "                            '3': (6.48E-4, pyunits.J/pyunits.kmol/pyunits.K**3),\n",
    "                            '4': (0, pyunits.J/pyunits.kmol/pyunits.K**4),\n",
    "                            '5': (0, pyunits.J/pyunits.kmol/pyunits.K**5)},\n",
    "                        \"enth_mol_form_liq_comp_ref\": (\n",
    "                            49.0e3, pyunits.J/pyunits.mol),  # [3]\n",
    "                        \"enth_mol_form_vap_comp_ref\": (\n",
    "                            82.9e3, pyunits.J/pyunits.mol),  # [3]\n",
    "                        \"pressure_sat_comp_coeff\": {'A': (-6.98273, None),  # [1]\n",
    "                                                    'B': (1.33213, None),\n",
    "                                                    'C': (-2.62863, None),\n",
    "                                                    'D': (-3.33399, None)}}},\n",
    "        'toluene': {\"type\": Component,\n",
    "                    \"elemental_composition\": {\"C\": 7, \"H\": 8},\n",
    "                    \"dens_mol_liq_comp\": Perrys,\n",
    "                    \"enth_mol_liq_comp\": Perrys,\n",
    "                    \"enth_mol_ig_comp\": RPP4,\n",
    "                    \"pressure_sat_comp\": RPP4,\n",
    "                    \"phase_equilibrium_form\": {(\"Vap\", \"Liq\"): fugacity},\n",
    "                    \"parameter_data\": {\n",
    "                        \"mw\": (92.1405E-3, pyunits.kg/pyunits.mol),  # [1]\n",
    "                        \"pressure_crit\": (41e5, pyunits.Pa),  # [1]\n",
    "                        \"temperature_crit\": (591.8, pyunits.K),  # [1]\n",
    "                        \"omega\": 0.263,  # [1]\n",
    "                        \"dens_mol_liq_comp_coeff\": {\n",
    "                            '1': (0.8488, pyunits.kmol*pyunits.m**-3),  # [2] pg. 2-98\n",
    "                            '2': (0.26655, None),\n",
    "                            '3': (591.8, pyunits.K),\n",
    "                            '4': (0.2878, None)},\n",
    "                        \"cp_mol_ig_comp_coeff\": {\n",
    "                            'A': (-2.435E1, pyunits.J/pyunits.mol/pyunits.K),  # [1]\n",
    "                            'B': (5.125E-1, pyunits.J/pyunits.mol/pyunits.K**2),\n",
    "                            'C': (-2.765E-4, pyunits.J/pyunits.mol/pyunits.K**3),\n",
    "                            'D': (4.911E-8, pyunits.J/pyunits.mol/pyunits.K**4)},\n",
    "                        \"cp_mol_liq_comp_coeff\": {\n",
    "                            '1': (1.40E2, pyunits.J/pyunits.kmol/pyunits.K),  # [2]\n",
    "                            '2': (-1.52E-1, pyunits.J/pyunits.kmol/pyunits.K**2),\n",
    "                            '3': (6.95E-4, pyunits.J/pyunits.kmol/pyunits.K**3),\n",
    "                            '4': (0, pyunits.J/pyunits.kmol/pyunits.K**4),\n",
    "                            '5': (0, pyunits.J/pyunits.kmol/pyunits.K**5)},\n",
    "                        \"enth_mol_form_liq_comp_ref\": (\n",
    "                            12.0e3, pyunits.J/pyunits.mol),  # [3]\n",
    "                        \"enth_mol_form_vap_comp_ref\": (\n",
    "                            50.1e3, pyunits.J/pyunits.mol),  # [3]\n",
    "                        \"pressure_sat_comp_coeff\": {'A': (-7.28607, None),  # [1]\n",
    "                                                    'B': (1.38091, None),\n",
    "                                                    'C': (-2.83433, None),\n",
    "                                                    'D': (-2.79168, None)}}}},\n",
    "\n",
    "    # Specifying phases\n",
    "    \"phases\":  {'Liq': {\"type\": LiquidPhase,\n",
    "                        \"equation_of_state\": Cubic,\n",
    "                        \"equation_of_state_options\": {\n",
    "                            \"type\": CubicType.VDW,\n",
    "                            \"mixing_rule_b\": MixingRuleB.default}},\n",
    "                'Vap': {\"type\": VaporPhase,\n",
    "                        \"equation_of_state\": Cubic,\n",
    "                        \"equation_of_state_options\": {\n",
    "                            \"type\": CubicType.VDW,\n",
    "                            \"mixing_rule_b\": MixingRuleB.default}}},\n",
    "\n",
    "    # Set base units of measurement\n",
    "    \"base_units\": {\"time\": pyunits.s,\n",
    "                   \"length\": pyunits.m,\n",
    "                   \"mass\": pyunits.kg,\n",
    "                   \"amount\": pyunits.mol,\n",
    "                   \"temperature\": pyunits.K},\n",
    "\n",
    "    # Specifying state definition\n",
    "    \"state_definition\": FTPx,\n",
    "    \"state_bounds\": {\"flow_mol\": (0, 100, 1000, pyunits.mol/pyunits.s),\n",
    "                     \"temperature\": (273.15, 300, 600, pyunits.K),\n",
    "                     \"pressure\": (5e4, 1e5, 2e10, pyunits.Pa)},\n",
    "    \"pressure_ref\": (1e5, pyunits.Pa),\n",
    "    \"temperature_ref\": (300, pyunits.K),\n",
    "\n",
    "    # Defining phase equilibria\n",
    "    \"phases_in_equilibrium\": [(\"Vap\", \"Liq\")],\n",
    "    \"phase_equilibrium_state\": {(\"Vap\", \"Liq\"): smooth_VLE},\n",
    "    \"bubble_dew_method\": IdealBubbleDew,\n",
    "    \"parameter_data\": {\"VDW_kappa\": {(\"benzene\", \"benzene\"): 0.0,\n",
    "                                    (\"benzene\", \"toluene\"): -0.551198,\n",
    "                                    (\"toluene\", \"benzene\"): -1.14495,\n",
    "                                    (\"toluene\", \"toluene\"): 0.0}}}"
   ]
  },
  {
   "cell_type": "markdown",
   "metadata": {},
   "source": [
    "### 2.4 Building the model\n",
    "\n",
    "In the next cell, we will first create a model and attach a the property package. "
   ]
  },
  {
   "cell_type": "code",
   "execution_count": 5,
   "metadata": {},
   "outputs": [
    {
     "name": "stdout",
     "output_type": "stream",
     "text": [
      "2022-02-18 15:28:23 [INFO] idaes.generic_models.properties.core.generic.generic_property: DEPRECATED - definiton of generic property packages is moving to using static classes instead of modules. Please refer to the IDAES documentation.\n",
      "2022-02-18 15:28:23 [WARNING] idaes.generic_models.properties.core.pure.Perrys: DEPRECATED - params.benzene dens_mol_liq_comp_coeff index 'eqn_type' should be specified, defaulting to equation form 1.\n",
      "2022-02-18 15:28:23 [WARNING] idaes.generic_models.properties.core.pure.Perrys: DEPRECATED - params.toluene dens_mol_liq_comp_coeff index 'eqn_type' should be specified, defaulting to equation form 1.\n"
     ]
    }
   ],
   "source": [
    "# Create the ConcreteModel\n",
    "model = ConcreteModel()\n",
    "\n",
    "# Attach the generic property package dictionary to the model\n",
    "model.params = GenericParameterBlock(default=configuration)"
   ]
  },
  {
   "cell_type": "markdown",
   "metadata": {},
   "source": [
    "## 3.0 Creating Txy diagrams\n",
    "\n",
    "### 3.1 Import the TXY_diagram function "
   ]
  },
  {
   "cell_type": "code",
   "execution_count": 6,
   "metadata": {},
   "outputs": [],
   "source": [
    "from idaes.core.util.phase_equilibria import Txy_diagram"
   ]
  },
  {
   "cell_type": "markdown",
   "metadata": {},
   "source": [
    "### 3.2 Calling the function"
   ]
  },
  {
   "cell_type": "code",
   "execution_count": 7,
   "metadata": {
    "scrolled": false
   },
   "outputs": [
    {
     "name": "stdout",
     "output_type": "stream",
     "text": [
      "2022-02-18 15:28:24 [WARNING] idaes.core.util.scaling: Missing scaling factor for props[1].mole_frac_comp\n",
      "2022-02-18 15:28:24 [WARNING] idaes.core.util.scaling: Missing scaling factor for props[1].mole_frac_comp\n"
     ]
    },
    {
     "ename": "InitializationError",
     "evalue": "props failed to initialize successfully. Please check the output logs for more information.",
     "output_type": "error",
     "traceback": [
      "\u001b[1;31m---------------------------------------------------------------------------\u001b[0m",
      "\u001b[1;31mInitializationError\u001b[0m                       Traceback (most recent call last)",
      "\u001b[1;32m~\\AppData\\Local\\Temp\\ipykernel_45384\\752402753.py\u001b[0m in \u001b[0;36m<module>\u001b[1;34m\u001b[0m\n\u001b[1;32m----> 1\u001b[1;33m Txy_diagram(\n\u001b[0m\u001b[0;32m      2\u001b[0m     \u001b[0mmodel\u001b[0m\u001b[1;33m,\u001b[0m \u001b[1;34m\"benzene\"\u001b[0m\u001b[1;33m,\u001b[0m \u001b[1;34m\"toluene\"\u001b[0m\u001b[1;33m,\u001b[0m \u001b[1;36m101000\u001b[0m\u001b[1;33m,\u001b[0m \u001b[0mnum_points\u001b[0m \u001b[1;33m=\u001b[0m \u001b[1;36m7\u001b[0m\u001b[1;33m,\u001b[0m \u001b[0mtemperature\u001b[0m \u001b[1;33m=\u001b[0m \u001b[1;36m298\u001b[0m\u001b[1;33m,\u001b[0m  \u001b[0mfigure_name\u001b[0m \u001b[1;33m=\u001b[0m \u001b[1;32mNone\u001b[0m\u001b[1;33m,\u001b[0m\u001b[1;33m\u001b[0m\u001b[1;33m\u001b[0m\u001b[0m\n\u001b[0;32m      3\u001b[0m     \u001b[0mprint_legend\u001b[0m \u001b[1;33m=\u001b[0m \u001b[1;32mTrue\u001b[0m\u001b[1;33m,\u001b[0m \u001b[0minclude_pressure\u001b[0m \u001b[1;33m=\u001b[0m \u001b[1;32mFalse\u001b[0m\u001b[1;33m,\u001b[0m \u001b[0mprint_level\u001b[0m\u001b[1;33m=\u001b[0m\u001b[0midaeslog\u001b[0m\u001b[1;33m.\u001b[0m\u001b[0mCRITICAL\u001b[0m\u001b[1;33m,\u001b[0m\u001b[1;33m\u001b[0m\u001b[1;33m\u001b[0m\u001b[0m\n\u001b[0;32m      4\u001b[0m     solver_op={'tol': 1e-8})\n\u001b[0;32m      5\u001b[0m \u001b[1;31m# Txy_diagram(\u001b[0m\u001b[1;33m\u001b[0m\u001b[1;33m\u001b[0m\u001b[0m\n",
      "\u001b[1;32mc:\\software\\idaes-pse-ex-fail\\idaes-pse-main\\idaes\\core\\util\\phase_equilibria.py\u001b[0m in \u001b[0;36mTxy_diagram\u001b[1;34m(model, component_1, component_2, pressure, num_points, temperature, figure_name, print_legend, include_pressure, print_level, solver, solver_op)\u001b[0m\n\u001b[0;32m     69\u001b[0m     \"\"\"\n\u001b[0;32m     70\u001b[0m     \u001b[1;31m# Run txy_ data funtion to obtain bubble and dew twmperatures\u001b[0m\u001b[1;33m\u001b[0m\u001b[1;33m\u001b[0m\u001b[0m\n\u001b[1;32m---> 71\u001b[1;33m     Txy_data_to_plot = Txy_data(model, component_1, component_2, pressure, num_points, temperature,\n\u001b[0m\u001b[0;32m     72\u001b[0m                                 print_level, solver, solver_op)\n\u001b[0;32m     73\u001b[0m \u001b[1;33m\u001b[0m\u001b[0m\n",
      "\u001b[1;32mc:\\software\\idaes-pse-ex-fail\\idaes-pse-main\\idaes\\core\\util\\phase_equilibria.py\u001b[0m in \u001b[0;36mTxy_data\u001b[1;34m(model, component_1, component_2, pressure, num_points, temperature, print_level, solver, solver_op)\u001b[0m\n\u001b[0;32m    129\u001b[0m     \u001b[1;31m# Initialize flash unit model\u001b[0m\u001b[1;33m\u001b[0m\u001b[1;33m\u001b[0m\u001b[0m\n\u001b[0;32m    130\u001b[0m     \u001b[0mmodel\u001b[0m\u001b[1;33m.\u001b[0m\u001b[0mprops\u001b[0m\u001b[1;33m[\u001b[0m\u001b[1;36m1\u001b[0m\u001b[1;33m]\u001b[0m\u001b[1;33m.\u001b[0m\u001b[0mcalculate_scaling_factors\u001b[0m\u001b[1;33m(\u001b[0m\u001b[1;33m)\u001b[0m\u001b[1;33m\u001b[0m\u001b[1;33m\u001b[0m\u001b[0m\n\u001b[1;32m--> 131\u001b[1;33m     \u001b[0mmodel\u001b[0m\u001b[1;33m.\u001b[0m\u001b[0mprops\u001b[0m\u001b[1;33m.\u001b[0m\u001b[0minitialize\u001b[0m\u001b[1;33m(\u001b[0m\u001b[0msolver\u001b[0m\u001b[1;33m=\u001b[0m\u001b[0msolver\u001b[0m\u001b[1;33m,\u001b[0m \u001b[0moptarg\u001b[0m\u001b[1;33m=\u001b[0m\u001b[0msolver_op\u001b[0m\u001b[1;33m,\u001b[0m \u001b[0moutlvl\u001b[0m\u001b[1;33m=\u001b[0m\u001b[0mprint_level\u001b[0m\u001b[1;33m)\u001b[0m\u001b[1;33m\u001b[0m\u001b[1;33m\u001b[0m\u001b[0m\n\u001b[0m\u001b[0;32m    132\u001b[0m \u001b[1;33m\u001b[0m\u001b[0m\n\u001b[0;32m    133\u001b[0m     \u001b[0msolver\u001b[0m \u001b[1;33m=\u001b[0m \u001b[0mget_solver\u001b[0m\u001b[1;33m(\u001b[0m\u001b[0msolver\u001b[0m\u001b[1;33m,\u001b[0m \u001b[0msolver_op\u001b[0m\u001b[1;33m)\u001b[0m\u001b[1;33m\u001b[0m\u001b[1;33m\u001b[0m\u001b[0m\n",
      "\u001b[1;32mc:\\software\\idaes-pse-ex-fail\\idaes-pse-main\\idaes\\generic_models\\properties\\core\\generic\\generic_property.py\u001b[0m in \u001b[0;36minitialize\u001b[1;34m(blk, state_args, state_vars_fixed, hold_state, outlvl, solver, optarg)\u001b[0m\n\u001b[0;32m   1431\u001b[0m \u001b[1;33m\u001b[0m\u001b[0m\n\u001b[0;32m   1432\u001b[0m         \u001b[1;32mif\u001b[0m \u001b[0mres\u001b[0m \u001b[1;32mis\u001b[0m \u001b[1;32mnot\u001b[0m \u001b[1;32mNone\u001b[0m \u001b[1;32mand\u001b[0m \u001b[1;32mnot\u001b[0m \u001b[0mcheck_optimal_termination\u001b[0m\u001b[1;33m(\u001b[0m\u001b[0mres\u001b[0m\u001b[1;33m)\u001b[0m\u001b[1;33m:\u001b[0m\u001b[1;33m\u001b[0m\u001b[1;33m\u001b[0m\u001b[0m\n\u001b[1;32m-> 1433\u001b[1;33m             raise InitializationError(\n\u001b[0m\u001b[0;32m   1434\u001b[0m                 \u001b[1;34mf\"{blk.name} failed to initialize successfully. Please check \"\u001b[0m\u001b[1;33m\u001b[0m\u001b[1;33m\u001b[0m\u001b[0m\n\u001b[0;32m   1435\u001b[0m                 f\"the output logs for more information.\")\n",
      "\u001b[1;31mInitializationError\u001b[0m: props failed to initialize successfully. Please check the output logs for more information."
     ]
    }
   ],
   "source": [
    "Txy_diagram(\n",
    "    model, \"benzene\", \"toluene\", 101000, num_points = 7, temperature = 298,  figure_name = None,\n",
    "    print_legend = True, include_pressure = False, print_level=idaeslog.CRITICAL,\n",
    "    solver_op={'tol': 1e-8})\n",
    "# Txy_diagram(\n",
    "#     model, \"benzene\", \"toluene\", 101325, num_points = 25, temperature = 150.15,  figure_name = None,\n",
    "#     print_legend = True, include_pressure = False, print_level=0,\n",
    "#     solver_op={'tol': 1e-6})"
   ]
  },
  {
   "cell_type": "code",
   "execution_count": null,
   "metadata": {
    "scrolled": false
   },
   "outputs": [],
   "source": [
    "model.display()"
   ]
  },
  {
   "cell_type": "markdown",
   "metadata": {},
   "source": [
    "You can add precision to the plot by increasing the num_points, include a firgure_name in order to save figure in a file or include the pressure in the plot. You can also include more information from the solver by changing the print_level."
   ]
  },
  {
   "cell_type": "code",
   "execution_count": null,
   "metadata": {},
   "outputs": [],
   "source": []
  },
  {
   "cell_type": "code",
   "execution_count": null,
   "metadata": {},
   "outputs": [],
   "source": []
  }
 ],
 "metadata": {
  "kernelspec": {
   "display_name": "Python 3 (ipykernel)",
   "language": "python",
   "name": "python3"
  },
  "language_info": {
   "codemirror_mode": {
    "name": "ipython",
    "version": 3
   },
   "file_extension": ".py",
   "mimetype": "text/x-python",
   "name": "python",
   "nbconvert_exporter": "python",
   "pygments_lexer": "ipython3",
   "version": "3.9.10"
  }
 },
 "nbformat": 4,
 "nbformat_minor": 4
}
